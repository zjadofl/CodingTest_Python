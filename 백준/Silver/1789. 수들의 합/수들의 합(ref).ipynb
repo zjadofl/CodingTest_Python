{
 "cells": [
  {
   "cell_type": "markdown",
   "metadata": {},
   "source": [
    "**원래 코드**"
   ]
  },
  {
   "cell_type": "code",
   "execution_count": null,
   "metadata": {},
   "outputs": [],
   "source": [
    "import math\n",
    "n = int(input())\n",
    "a = int(math.sqrt(n*2))\n",
    "expect = a * (a + 1) / 2\n",
    "if (expect > n):\n",
    "    result = a-1\n",
    "else:\n",
    "    result = a\n",
    "print(result)"
   ]
  },
  {
   "cell_type": "markdown",
   "metadata": {},
   "source": [
    "<br/>\n",
    "\n",
    "**참고 코드 1**\n",
    "- [블로그 url](https://kongpowder.tistory.com/41)"
   ]
  },
  {
   "cell_type": "code",
   "execution_count": null,
   "metadata": {},
   "outputs": [],
   "source": [
    "s = int(input())\n",
    "N = 0\n",
    "result = 0\n",
    "for i in range(1,s+1):\n",
    "    result += i\n",
    "    N += 1\n",
    "    if(result > s):\n",
    "        N -= 1\n",
    "        break;\n",
    "print(N)"
   ]
  },
  {
   "cell_type": "markdown",
   "metadata": {},
   "source": [
    "<br/>\n",
    "\n",
    "**참고 코드 2**\n",
    "- [블로그 url](https://pacific-ocean.tistory.com/80)"
   ]
  },
  {
   "cell_type": "code",
   "execution_count": null,
   "metadata": {},
   "outputs": [],
   "source": [
    "s = int(input())\n",
    "n = 1\n",
    "while n * (n + 1) / 2 <= s:\n",
    "    n += 1\n",
    "print(n - 1)"
   ]
  }
 ],
 "metadata": {
  "kernelspec": {
   "display_name": "Python 3",
   "language": "python",
   "name": "python3"
  },
  "language_info": {
   "codemirror_mode": {
    "name": "ipython",
    "version": 3
   },
   "file_extension": ".py",
   "mimetype": "text/x-python",
   "name": "python",
   "nbconvert_exporter": "python",
   "pygments_lexer": "ipython3",
   "version": "3.8.5"
  }
 },
 "nbformat": 4,
 "nbformat_minor": 4
}
