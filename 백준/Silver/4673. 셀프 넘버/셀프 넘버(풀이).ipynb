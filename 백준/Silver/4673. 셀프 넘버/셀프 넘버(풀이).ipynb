{
 "cells": [
  {
   "cell_type": "markdown",
   "metadata": {},
   "source": [
    "# 내 소스"
   ]
  },
  {
   "cell_type": "code",
   "execution_count": null,
   "metadata": {},
   "outputs": [],
   "source": [
    "def d(n):\n",
    "    result = n + sum(list(map(int, str(n))))\n",
    "    return result\n",
    "array = []\n",
    "for i in range(1, 10001):\n",
    "    array.append(d(i))\n",
    "    \n",
    "for i in range(1, 10001):\n",
    "    if i in array:\n",
    "        continue\n",
    "    print(i)"
   ]
  },
  {
   "cell_type": "markdown",
   "metadata": {},
   "source": [
    "<br>\n",
    "\n",
    "# 수정한 소스"
   ]
  },
  {
   "cell_type": "code",
   "execution_count": null,
   "metadata": {},
   "outputs": [],
   "source": [
    "total_set = set(range(1, 10001))\n",
    "def d(n):\n",
    "    result = n + sum(map(int, str(n)))\n",
    "    return result\n",
    "\n",
    "array = []\n",
    "for i in range(1, 10001):\n",
    "    array.append(d(i))\n",
    "    \n",
    "result_array = total_set - set(array)\n",
    "    \n",
    "for i in sorted(result_array):\n",
    "    print(i)"
   ]
  },
  {
   "cell_type": "markdown",
   "metadata": {},
   "source": [
    "- [2] : list 변환 삭제\n",
    "- [10] : 셀프 넘버를 구함\n",
    "- [12 - 13] : 오름차순 정렬 후, 출력\n",
    "<br>\n",
    "\n",
    "### 달라진 결과\n",
    "- 시간이 현저히 줄어들었다."
   ]
  },
  {
   "cell_type": "markdown",
   "metadata": {},
   "source": [
    "<br>\n",
    "\n",
    "# 다른 답안1\n",
    "- 출처 : [답안1](https://wook-2124.tistory.com/252)"
   ]
  },
  {
   "cell_type": "code",
   "execution_count": null,
   "metadata": {},
   "outputs": [],
   "source": [
    "natural_num = set(range(1, 10001))\n",
    "generated_num = set()\n",
    "\n",
    "for i in range(1, 10001):\n",
    "    for j in str(i):\n",
    "        i += int(j)\n",
    "    generated_num.add(i)\n",
    "\n",
    "self_num = sorted(natural_num - generated_num)\n",
    "for i in self_num:\n",
    "    print(i)"
   ]
  },
  {
   "cell_type": "markdown",
   "metadata": {},
   "source": [
    "<br>\n",
    "\n",
    "# 다른 답안2\n",
    "- 출처 : [답안2](https://kbwplace.tistory.com/69)"
   ]
  },
  {
   "cell_type": "code",
   "execution_count": null,
   "metadata": {},
   "outputs": [],
   "source": [
    "def d(n):\n",
    "    n = n + sum(map(int, str(n)))\n",
    "    return n\n",
    "\n",
    "nonSelfNum = set()\n",
    "\n",
    "for i in range(1, 10001):\n",
    "    nonSelfNum.add(d(i))\n",
    "    \n",
    "for j in range(1, 10001):\n",
    "    if j not in nonSelfNum:\n",
    "        print(j)"
   ]
  },
  {
   "cell_type": "markdown",
   "metadata": {},
   "source": [
    "<br>\n",
    "\n",
    "# 다른 답안3\n",
    "- 출처 : [답안3](https://parkgihyeon.github.io/boj/boj4673/)"
   ]
  },
  {
   "cell_type": "code",
   "execution_count": null,
   "metadata": {},
   "outputs": [],
   "source": [
    "def self_number(num):\n",
    "    self_num = num\n",
    "    while num != 0:\n",
    "        self_num += num%10 \n",
    "        num //= 10\n",
    "    return self_num\n",
    "        \n",
    "result = []\n",
    "for i in list(range(1,10001)):\n",
    "    result.append(self_number(i))\n",
    "    if i not in result:\n",
    "        print(i)"
   ]
  }
 ],
 "metadata": {
  "kernelspec": {
   "display_name": "Python 3",
   "language": "python",
   "name": "python3"
  },
  "language_info": {
   "codemirror_mode": {
    "name": "ipython",
    "version": 3
   },
   "file_extension": ".py",
   "mimetype": "text/x-python",
   "name": "python",
   "nbconvert_exporter": "python",
   "pygments_lexer": "ipython3",
   "version": "3.8.5"
  }
 },
 "nbformat": 4,
 "nbformat_minor": 4
}
