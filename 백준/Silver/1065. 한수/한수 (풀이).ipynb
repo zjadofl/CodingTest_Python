{
 "cells": [
  {
   "cell_type": "markdown",
   "metadata": {},
   "source": [
    "# 내 소스"
   ]
  },
  {
   "cell_type": "code",
   "execution_count": 2,
   "metadata": {},
   "outputs": [
    {
     "name": "stdout",
     "output_type": "stream",
     "text": [
      "1000\n",
      "144\n"
     ]
    }
   ],
   "source": [
    "n = input()\n",
    "cnt = 0\n",
    "for i in range(1, int(n)+1):\n",
    "    array = list(map(int, str(i)))\n",
    "    diff_array = []\n",
    "    if len(array) >= 2:\n",
    "        for j in range(len(array)-1):\n",
    "            diff_array.append(array[j+1] - array[j])\n",
    "        if diff_array.count(diff_array[0]) == len(diff_array):\n",
    "            cnt += 1\n",
    "    else:\n",
    "        cnt += 1\n",
    "print(cnt)"
   ]
  },
  {
   "cell_type": "markdown",
   "metadata": {},
   "source": [
    "<br>\n",
    "\n",
    "# 수정한 소스"
   ]
  },
  {
   "cell_type": "code",
   "execution_count": 10,
   "metadata": {},
   "outputs": [
    {
     "name": "stdout",
     "output_type": "stream",
     "text": [
      "500\n",
      "119\n"
     ]
    }
   ],
   "source": [
    "n = int(input())\n",
    "cnt = 0\n",
    "for i in range(1, n+1):\n",
    "    if i <= 99:\n",
    "        cnt += 1\n",
    "    else:\n",
    "        array = list(map(int, str(i)))\n",
    "        if array[0] - array[1] == array[1] - array[2]:\n",
    "            cnt += 1\n",
    "print(cnt)"
   ]
  },
  {
   "cell_type": "markdown",
   "metadata": {},
   "source": [
    "<br>\n",
    "\n",
    "# 다른 답안\n",
    "- 출처 : [답안1](https://roseline124.github.io/algorithm/2019/03/29/Algorithem-baekjoon-1065.html)"
   ]
  },
  {
   "cell_type": "code",
   "execution_count": 12,
   "metadata": {},
   "outputs": [
    {
     "name": "stdout",
     "output_type": "stream",
     "text": [
      "1000\n",
      "144\n"
     ]
    }
   ],
   "source": [
    "num = int(input())\n",
    "hansu = 0\n",
    "\n",
    "for n in range(1, num+1) :\n",
    "    if n <= 99 : # 1부터 99까지는 모두 한수\n",
    "        hansu += 1 \n",
    "    \n",
    "    else :     \n",
    "        nums = list(map(int, str(n))) # 숫자를 자릿수대로 분리 \n",
    "        if nums[0] - nums[1] == nums[1] - nums[2] : #등차수열 확인\n",
    "            hansu+=1\n",
    "print(hansu)"
   ]
  }
 ],
 "metadata": {
  "kernelspec": {
   "display_name": "Python 3",
   "language": "python",
   "name": "python3"
  },
  "language_info": {
   "codemirror_mode": {
    "name": "ipython",
    "version": 3
   },
   "file_extension": ".py",
   "mimetype": "text/x-python",
   "name": "python",
   "nbconvert_exporter": "python",
   "pygments_lexer": "ipython3",
   "version": "3.8.5"
  }
 },
 "nbformat": 4,
 "nbformat_minor": 4
}
