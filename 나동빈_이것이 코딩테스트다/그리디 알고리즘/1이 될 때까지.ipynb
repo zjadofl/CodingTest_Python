{
 "cells": [
  {
   "cell_type": "markdown",
   "metadata": {},
   "source": [
    "# 내가 작성한 답"
   ]
  },
  {
   "cell_type": "code",
   "execution_count": 4,
   "metadata": {},
   "outputs": [
    {
     "name": "stdout",
     "output_type": "stream",
     "text": [
      "121 5\n",
      "10\n"
     ]
    }
   ],
   "source": [
    "n, k = map(int, input().split())\n",
    "\n",
    "cnt = 0\n",
    "while n > 1:\n",
    "    if n % k == 0:\n",
    "        n = n // k\n",
    "        cnt += 1\n",
    "        continue\n",
    "    n -= 1\n",
    "    cnt+=1\n",
    "print(cnt)"
   ]
  },
  {
   "cell_type": "markdown",
   "metadata": {},
   "source": [
    "- 20분 30초 남기고 통과"
   ]
  },
  {
   "cell_type": "markdown",
   "metadata": {},
   "source": [
    "<br/>\n",
    "\n",
    "# 답안1"
   ]
  },
  {
   "cell_type": "code",
   "execution_count": 5,
   "metadata": {},
   "outputs": [
    {
     "name": "stdout",
     "output_type": "stream",
     "text": [
      "121 5\n",
      "10\n"
     ]
    }
   ],
   "source": [
    "n, k = map(int, input().split())\n",
    "result = 0\n",
    "\n",
    "while n >= k:\n",
    "    while n % k != 0:\n",
    "        n -= 1\n",
    "        result += 1\n",
    "    n //= k\n",
    "    result += 1\n",
    "    \n",
    "while n > 1:\n",
    "    n -= 1\n",
    "    result += 1\n",
    "print(result)"
   ]
  },
  {
   "cell_type": "markdown",
   "metadata": {},
   "source": [
    "<br/>\n",
    "\n",
    "# 답안2"
   ]
  },
  {
   "cell_type": "code",
   "execution_count": 11,
   "metadata": {},
   "outputs": [
    {
     "name": "stdout",
     "output_type": "stream",
     "text": [
      "121 5\n",
      "10\n"
     ]
    }
   ],
   "source": [
    "n, k = map(int, input().split())\n",
    "result = 0\n",
    "\n",
    "while True:\n",
    "    # (N == K로 나누어떨어지는 수)가 될 때까지 1씩 빼기\n",
    "    target = (n // k) * k\n",
    "    result += (n - target)\n",
    "    n = target\n",
    "    # N이 K보다 작을 때 반복문 탈출\n",
    "    if n < k :\n",
    "        break\n",
    "    # K로 나누기\n",
    "    result += 1\n",
    "    n //= k\n",
    "# 마지막으로 남은 수에 대해 1씩 빼기\n",
    "result += (n - 1)\n",
    "print(result)"
   ]
  },
  {
   "cell_type": "markdown",
   "metadata": {},
   "source": [
    "- 답안 2를 이해하는 데에 시간이 좀 걸렸다."
   ]
  }
 ],
 "metadata": {
  "kernelspec": {
   "display_name": "Python 3",
   "language": "python",
   "name": "python3"
  },
  "language_info": {
   "codemirror_mode": {
    "name": "ipython",
    "version": 3
   },
   "file_extension": ".py",
   "mimetype": "text/x-python",
   "name": "python",
   "nbconvert_exporter": "python",
   "pygments_lexer": "ipython3",
   "version": "3.8.5"
  }
 },
 "nbformat": 4,
 "nbformat_minor": 4
}
