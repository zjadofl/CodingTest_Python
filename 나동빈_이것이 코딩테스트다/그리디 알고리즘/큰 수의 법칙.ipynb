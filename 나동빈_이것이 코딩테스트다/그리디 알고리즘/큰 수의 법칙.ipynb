{
 "cells": [
  {
   "cell_type": "markdown",
   "metadata": {},
   "source": [
    "# 내가 작성한 답"
   ]
  },
  {
   "cell_type": "code",
   "execution_count": 9,
   "metadata": {},
   "outputs": [
    {
     "name": "stdout",
     "output_type": "stream",
     "text": [
      "5 7 2\n",
      "3 4 3 4 3\n",
      "28\n"
     ]
    }
   ],
   "source": [
    "n, m, k = map(int, input().split())\n",
    "array = list(map(int, input().split()))\n",
    "\n",
    "array.sort(reverse=True)\n",
    "\n",
    "result = cnt = flag = 0\n",
    "max_item = array[0]\n",
    "next_max_item = array[1]\n",
    "while True:\n",
    "    if cnt == m:\n",
    "        break\n",
    "    result += max_item\n",
    "    flag += 1\n",
    "    cnt += 1\n",
    "    \n",
    "    if flag != k:\n",
    "        continue\n",
    "\n",
    "    flag = 0\n",
    "    result += next_max_item\n",
    "    cnt += 1\n",
    "print(result)"
   ]
  },
  {
   "cell_type": "markdown",
   "metadata": {},
   "source": [
    "- 4분 47분 남기고 통과\n",
    "- 처음에 접근했던 방식은 큰 수와 k를 곱하는 것이었는데 그 방법이 정확하게 m만큼 실행하기 어렵다는 것을 뒤늦게 깨닫고 하나씩 계산하는 방식으로 수정하였다."
   ]
  },
  {
   "cell_type": "markdown",
   "metadata": {},
   "source": [
    "<br>\n",
    "\n",
    "# 답안1"
   ]
  },
  {
   "cell_type": "code",
   "execution_count": 12,
   "metadata": {},
   "outputs": [
    {
     "name": "stdout",
     "output_type": "stream",
     "text": [
      "5 8 3\n",
      "2 4 5 4 6\n",
      "46\n"
     ]
    }
   ],
   "source": [
    "n, m, k = map(int, input().split())\n",
    "data = list(map(int, input().split()))\n",
    "\n",
    "data.sort()\n",
    "first = data[n - 1]\n",
    "second = data[n - 2]\n",
    "\n",
    "result = 0\n",
    "\n",
    "while True:\n",
    "    for i in range(k):\n",
    "        if m == 0:\n",
    "            break\n",
    "        result += first\n",
    "        m -= 1\n",
    "    if m == 0:\n",
    "        break\n",
    "    result += second\n",
    "    m -= 1\n",
    "print(result)"
   ]
  },
  {
   "cell_type": "markdown",
   "metadata": {},
   "source": [
    "- 내가 코드를 짜면서 변수를 너무 많이 사용하는 것 같아 맘에 걸렸는데 답안을 보고 m의 크기를 줄이는 방법이 있다는 것을 깨달았다. 이렇게 하면 변수 하나를 줄일 수 있다. \n",
    "- 해당 풀이는 M의 크기가 커지면 시간 초과가 나올 수 있다. "
   ]
  },
  {
   "cell_type": "markdown",
   "metadata": {},
   "source": [
    "<br>\n",
    "\n",
    "# 답안2"
   ]
  },
  {
   "cell_type": "code",
   "execution_count": 15,
   "metadata": {},
   "outputs": [
    {
     "name": "stdout",
     "output_type": "stream",
     "text": [
      "5 8 3\n",
      "2 4 5 4 6\n",
      "46\n"
     ]
    }
   ],
   "source": [
    "n, m, k = map(int, input().split())\n",
    "data = list(map(int, input().split()))\n",
    "\n",
    "data.sort()\n",
    "first = data[n - 1]\n",
    "second = data[n - 2]\n",
    "\n",
    "# count : 가장 큰 수를 몇 번 곱해야 하는지 셈\n",
    "count = int(m / (k+1)) * k\n",
    "count += m % (k+1)\n",
    "\n",
    "result = 0\n",
    "result += (count) * first\n",
    "result += (m - count) * second\n",
    "\n",
    "print(result)"
   ]
  },
  {
   "cell_type": "markdown",
   "metadata": {},
   "source": [
    "- 답안2는 패턴을 찾아서 수학적으로 만들었다. 나도 패턴을 찾아서 수학적으로 간략히 풀 수 있는 접근법을 많이 생각해봐야 할 것 같다."
   ]
  }
 ],
 "metadata": {
  "kernelspec": {
   "display_name": "Python 3",
   "language": "python",
   "name": "python3"
  },
  "language_info": {
   "codemirror_mode": {
    "name": "ipython",
    "version": 3
   },
   "file_extension": ".py",
   "mimetype": "text/x-python",
   "name": "python",
   "nbconvert_exporter": "python",
   "pygments_lexer": "ipython3",
   "version": "3.8.5"
  }
 },
 "nbformat": 4,
 "nbformat_minor": 4
}
