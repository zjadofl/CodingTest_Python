{
 "cells": [
  {
   "cell_type": "markdown",
   "metadata": {},
   "source": [
    "# 구현 실패\n",
    "- 원래 작성해놓은 코드가 있었는데 날라가버렸다...\n",
    "<br><br>\n",
    "\n",
    "**어려웠던 점**\n",
    "- 8가지 케이스를 고려해서 코드를 짜려고 했지만 잘 되지 않았다.\n",
    "- 다른 문자들로 한꺼번에 치환하는 방법을 까먹었다. \n",
    "    - 검색을 통해 translate() 와 maketrans() 함수를 알게 되었다."
   ]
  },
  {
   "cell_type": "code",
   "execution_count": 1,
   "metadata": {},
   "outputs": [
    {
     "name": "stdout",
     "output_type": "stream",
     "text": [
      "a1\n",
      "11\n"
     ]
    }
   ],
   "source": [
    "n = input()\n",
    "result = n.translate(str.maketrans('abcdefgh','12345678'))\n",
    "print(result)"
   ]
  },
  {
   "cell_type": "markdown",
   "metadata": {},
   "source": [
    "<br>\n",
    "\n",
    "# 답안"
   ]
  },
  {
   "cell_type": "code",
   "execution_count": 4,
   "metadata": {},
   "outputs": [
    {
     "name": "stdout",
     "output_type": "stream",
     "text": [
      "c2\n",
      "6\n"
     ]
    }
   ],
   "source": [
    "input_data = input()\n",
    "row = int(input_data[1])\n",
    "column = int(ord(input_data[0])) - int(ord('a')) + 1\n",
    "\n",
    "steps = [(-2, -1), (-1, -2), (1, -2), (2, -1), (2, 1), (1, 2), (-1, 2), (-2, 1)]\n",
    "\n",
    "result = 0\n",
    "for step in steps:\n",
    "    next_row = row + step[0]\n",
    "    next_column = column + step[1]\n",
    "    if next_row >= 1 and next_row <= 8 and next_column >= 1 and next_column <= 8:\n",
    "        result += 1\n",
    "print(result)"
   ]
  },
  {
   "cell_type": "markdown",
   "metadata": {},
   "source": [
    "**파이썬 문법**\n",
    "- ord() : 문자를 유니코드 정수로 반환"
   ]
  },
  {
   "cell_type": "markdown",
   "metadata": {},
   "source": [
    "<br>\n",
    "\n",
    "**소스 분석**\n",
    "- [3]에서 유니코드 정수 차이를 이용해서 정수값을 구하였다."
   ]
  }
 ],
 "metadata": {
  "kernelspec": {
   "display_name": "Python 3",
   "language": "python",
   "name": "python3"
  },
  "language_info": {
   "codemirror_mode": {
    "name": "ipython",
    "version": 3
   },
   "file_extension": ".py",
   "mimetype": "text/x-python",
   "name": "python",
   "nbconvert_exporter": "python",
   "pygments_lexer": "ipython3",
   "version": "3.8.5"
  }
 },
 "nbformat": 4,
 "nbformat_minor": 4
}
