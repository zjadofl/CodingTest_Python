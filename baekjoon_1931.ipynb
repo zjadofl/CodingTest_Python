{
 "cells": [
  {
   "cell_type": "markdown",
   "metadata": {},
   "source": [
    "[문제 정리] (https://com-l.tistory.com/78)"
   ]
  },
  {
   "cell_type": "markdown",
   "metadata": {},
   "source": [
    " "
   ]
  },
  {
   "cell_type": "markdown",
   "metadata": {},
   "source": [
    "실패 코드"
   ]
  },
  {
   "cell_type": "code",
   "execution_count": 1,
   "metadata": {},
   "outputs": [
    {
     "name": "stdout",
     "output_type": "stream",
     "text": [
      "11\n",
      "1 4\n",
      "3 5\n",
      "0 6\n",
      "5 7\n",
      "3 8\n",
      "5 9\n",
      "6 10\n",
      "8 11\n",
      "8 12\n",
      "2 13\n",
      "12 14\n",
      "3\n"
     ]
    }
   ],
   "source": [
    "n = int(input())\n",
    "times = []\n",
    "for i in range(n):\n",
    "    times.append(list(map(int, input().split())))\n",
    "times.sort(key=lambda x:(x[0], x[1]-x[0]))\n",
    "start = times[0]\n",
    "cnt = 1\n",
    "for time in times:\n",
    "    if start[1] - start[0] > time[1] - time[0]:\n",
    "        start = time\n",
    "    if start[1] <= time[0]:\n",
    "        cnt += 1\n",
    "        start = time\n",
    "print(cnt)"
   ]
  },
  {
   "cell_type": "markdown",
   "metadata": {},
   "source": [
    " "
   ]
  },
  {
   "cell_type": "markdown",
   "metadata": {},
   "source": [
    "성공 코드"
   ]
  },
  {
   "cell_type": "code",
   "execution_count": 3,
   "metadata": {},
   "outputs": [
    {
     "name": "stdout",
     "output_type": "stream",
     "text": [
      "2\n",
      "1 2\n",
      "2 2\n",
      "2\n"
     ]
    }
   ],
   "source": [
    "n = int(input())\n",
    "times = []\n",
    "for _ in range(n):\n",
    "    times.append(list(map(int, input().split())))\n",
    "times.sort(key=lambda x: (x[1], x[0]))    \n",
    "cnt = 1\n",
    "meeting = times[0]\n",
    "for i in range(1, len(times)):\n",
    "    if meeting[1] <= times[i][0]:\n",
    "        cnt += 1\n",
    "        meeting = times[i]\n",
    "print(cnt)"
   ]
  },
  {
   "cell_type": "markdown",
   "metadata": {},
   "source": [
    " "
   ]
  },
  {
   "cell_type": "markdown",
   "metadata": {},
   "source": [
    "연습1"
   ]
  },
  {
   "cell_type": "code",
   "execution_count": 18,
   "metadata": {},
   "outputs": [
    {
     "name": "stdout",
     "output_type": "stream",
     "text": [
      "[[5, 5], [6, 6], [5, 6], [6, 7], [7, 7]]\n",
      "[[5, 5], [5, 6], [6, 6], [6, 7], [7, 7]]\n"
     ]
    }
   ],
   "source": [
    "times = [[6, 7], [6, 6], [5, 6], [5, 5], [7, 7]]\n",
    "\n",
    "# 종료 시간 오름차순\n",
    "times.sort(key=lambda x: (x[1]))\n",
    "print(times)\n",
    "# 결과 : [[5, 5], [6, 6], [5, 6], [6, 7], [7, 7]]\n",
    "\n",
    "# 종료 시간 오름차순, 시작 시간 오름차순\n",
    "times.sort(key=lambda x: (x[1], x[0]))\n",
    "print(times)\n",
    "# 결과 : [[5, 5], [5, 6], [6, 6], [6, 7], [7, 7]]"
   ]
  }
 ],
 "metadata": {
  "kernelspec": {
   "display_name": "Python 3",
   "language": "python",
   "name": "python3"
  },
  "language_info": {
   "codemirror_mode": {
    "name": "ipython",
    "version": 3
   },
   "file_extension": ".py",
   "mimetype": "text/x-python",
   "name": "python",
   "nbconvert_exporter": "python",
   "pygments_lexer": "ipython3",
   "version": "3.8.5"
  }
 },
 "nbformat": 4,
 "nbformat_minor": 4
}
