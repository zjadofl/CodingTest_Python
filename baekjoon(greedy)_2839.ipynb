{
 "cells": [
  {
   "cell_type": "code",
   "execution_count": 1,
   "metadata": {},
   "outputs": [
    {
     "name": "stdout",
     "output_type": "stream",
     "text": [
      "18\n",
      "4\n"
     ]
    }
   ],
   "source": [
    "n = int(input())\n",
    "value = -1\n",
    "\n",
    "if n % 5 == 0:\n",
    "    value = n // 5\n",
    "else :\n",
    "    for i in range(n // 5, 0, -1):\n",
    "        q = n - 5 * i\n",
    "        if q % 3 == 0:\n",
    "            value = i + q // 3\n",
    "            break\n",
    "if (value == -1) and (n % 3 == 0) :\n",
    "    value = n // 3\n",
    "\n",
    "print(value)"
   ]
  }
 ],
 "metadata": {
  "kernelspec": {
   "display_name": "Python 3",
   "language": "python",
   "name": "python3"
  },
  "language_info": {
   "codemirror_mode": {
    "name": "ipython",
    "version": 3
   },
   "file_extension": ".py",
   "mimetype": "text/x-python",
   "name": "python",
   "nbconvert_exporter": "python",
   "pygments_lexer": "ipython3",
   "version": "3.8.5"
  }
 },
 "nbformat": 4,
 "nbformat_minor": 4
}
